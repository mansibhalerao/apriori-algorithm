{
 "cells": [
  {
   "cell_type": "code",
   "execution_count": 3,
   "metadata": {},
   "outputs": [
    {
     "name": "stdout",
     "output_type": "stream",
     "text": [
      "Collecting mlxtend\n",
      "  Downloading https://files.pythonhosted.org/packages/c0/ca/54fe0ae783ce81a467710d1c5fb41cfca075121139b48327b807020dc40c/mlxtend-0.16.0-py2.py3-none-any.whl (1.3MB)\n",
      "Requirement already satisfied: numpy>=1.10.4 in c:\\users\\mansi\\miniconda3\\envs\\tensorflow\\lib\\site-packages (from mlxtend) (1.15.4)\n",
      "Requirement already satisfied: scikit-learn>=0.18 in c:\\users\\mansi\\miniconda3\\envs\\tensorflow\\lib\\site-packages (from mlxtend) (0.20.2)\n",
      "Requirement already satisfied: pandas>=0.17.1 in c:\\users\\mansi\\miniconda3\\envs\\tensorflow\\lib\\site-packages (from mlxtend) (0.24.1)\n",
      "Requirement already satisfied: matplotlib>=1.5.1 in c:\\users\\mansi\\miniconda3\\envs\\tensorflow\\lib\\site-packages (from mlxtend) (3.0.2)\n",
      "Requirement already satisfied: setuptools in c:\\users\\mansi\\miniconda3\\envs\\tensorflow\\lib\\site-packages (from mlxtend) (40.7.3)\n",
      "Requirement already satisfied: scipy>=0.17 in c:\\users\\mansi\\miniconda3\\envs\\tensorflow\\lib\\site-packages (from mlxtend) (1.2.0)\n",
      "Requirement already satisfied: python-dateutil>=2.5.0 in c:\\users\\mansi\\miniconda3\\envs\\tensorflow\\lib\\site-packages (from pandas>=0.17.1->mlxtend) (2.7.5)\n",
      "Requirement already satisfied: pytz>=2011k in c:\\users\\mansi\\miniconda3\\envs\\tensorflow\\lib\\site-packages (from pandas>=0.17.1->mlxtend) (2018.9)\n",
      "Requirement already satisfied: kiwisolver>=1.0.1 in c:\\users\\mansi\\miniconda3\\envs\\tensorflow\\lib\\site-packages (from matplotlib>=1.5.1->mlxtend) (1.0.1)\n",
      "Requirement already satisfied: pyparsing!=2.0.4,!=2.1.2,!=2.1.6,>=2.0.1 in c:\\users\\mansi\\miniconda3\\envs\\tensorflow\\lib\\site-packages (from matplotlib>=1.5.1->mlxtend) (2.3.1)\n",
      "Requirement already satisfied: cycler>=0.10 in c:\\users\\mansi\\miniconda3\\envs\\tensorflow\\lib\\site-packages (from matplotlib>=1.5.1->mlxtend) (0.10.0)\n",
      "Requirement already satisfied: six>=1.5 in c:\\users\\mansi\\miniconda3\\envs\\tensorflow\\lib\\site-packages (from python-dateutil>=2.5.0->pandas>=0.17.1->mlxtend) (1.12.0)\n",
      "Installing collected packages: mlxtend\n",
      "Successfully installed mlxtend-0.16.0\n"
     ]
    }
   ],
   "source": [
    "!pip install mlxtend"
   ]
  },
  {
   "cell_type": "code",
   "execution_count": 4,
   "metadata": {},
   "outputs": [],
   "source": [
    "from mlxtend.preprocessing import TransactionEncoder"
   ]
  },
  {
   "cell_type": "code",
   "execution_count": 13,
   "metadata": {},
   "outputs": [],
   "source": [
    "import pandas as pd\n",
    "from mlxtend.frequent_patterns import apriori"
   ]
  },
  {
   "cell_type": "code",
   "execution_count": 5,
   "metadata": {},
   "outputs": [],
   "source": [
    "dataset=[\n",
    "        ['milk','onion','nutmeg','kidney beans','eggs','yogurt'],\n",
    "        ['dill','onion','numtmeg','kidney beans','eggs','yogurt'],\n",
    "        ['milk','apple','kidney beans','eggs'],\n",
    "        ['milk','unicorn','corn','kidney beans','yogurt'],\n",
    "        ['corn','onion','onion','kidney beans','ice cream','eggs']\n",
    "        ]\n",
    "#each row can be considered as a seperate bill"
   ]
  },
  {
   "cell_type": "code",
   "execution_count": 10,
   "metadata": {},
   "outputs": [
    {
     "name": "stdout",
     "output_type": "stream",
     "text": [
      "['apple', 'corn', 'dill', 'eggs', 'ice cream', 'kidney beans', 'milk', 'numtmeg', 'nutmeg', 'onion', 'unicorn', 'yogurt']\n"
     ]
    },
    {
     "data": {
      "text/plain": [
       "array([[False, False, False,  True, False,  True,  True, False,  True,\n",
       "         True, False,  True],\n",
       "       [False, False,  True,  True, False,  True, False,  True, False,\n",
       "         True, False,  True],\n",
       "       [ True, False, False,  True, False,  True,  True, False, False,\n",
       "        False, False, False],\n",
       "       [False,  True, False, False, False,  True,  True, False, False,\n",
       "        False,  True,  True],\n",
       "       [False,  True, False,  True,  True,  True, False, False, False,\n",
       "         True, False, False]])"
      ]
     },
     "execution_count": 10,
     "metadata": {},
     "output_type": "execute_result"
    }
   ],
   "source": [
    "te=TransactionEncoder()\n",
    "#transforming dataset according to the dataframe needed.\n",
    "trans=te.fit(dataset).transform(dataset)\n",
    "print(te.columns_)\n",
    "trans"
   ]
  },
  {
   "cell_type": "code",
   "execution_count": 12,
   "metadata": {},
   "outputs": [
    {
     "data": {
      "text/html": [
       "<div>\n",
       "<style scoped>\n",
       "    .dataframe tbody tr th:only-of-type {\n",
       "        vertical-align: middle;\n",
       "    }\n",
       "\n",
       "    .dataframe tbody tr th {\n",
       "        vertical-align: top;\n",
       "    }\n",
       "\n",
       "    .dataframe thead th {\n",
       "        text-align: right;\n",
       "    }\n",
       "</style>\n",
       "<table border=\"1\" class=\"dataframe\">\n",
       "  <thead>\n",
       "    <tr style=\"text-align: right;\">\n",
       "      <th></th>\n",
       "      <th>apple</th>\n",
       "      <th>corn</th>\n",
       "      <th>dill</th>\n",
       "      <th>eggs</th>\n",
       "      <th>ice cream</th>\n",
       "      <th>kidney beans</th>\n",
       "      <th>milk</th>\n",
       "      <th>numtmeg</th>\n",
       "      <th>nutmeg</th>\n",
       "      <th>onion</th>\n",
       "      <th>unicorn</th>\n",
       "      <th>yogurt</th>\n",
       "    </tr>\n",
       "  </thead>\n",
       "  <tbody>\n",
       "    <tr>\n",
       "      <th>0</th>\n",
       "      <td>False</td>\n",
       "      <td>False</td>\n",
       "      <td>False</td>\n",
       "      <td>True</td>\n",
       "      <td>False</td>\n",
       "      <td>True</td>\n",
       "      <td>True</td>\n",
       "      <td>False</td>\n",
       "      <td>True</td>\n",
       "      <td>True</td>\n",
       "      <td>False</td>\n",
       "      <td>True</td>\n",
       "    </tr>\n",
       "    <tr>\n",
       "      <th>1</th>\n",
       "      <td>False</td>\n",
       "      <td>False</td>\n",
       "      <td>True</td>\n",
       "      <td>True</td>\n",
       "      <td>False</td>\n",
       "      <td>True</td>\n",
       "      <td>False</td>\n",
       "      <td>True</td>\n",
       "      <td>False</td>\n",
       "      <td>True</td>\n",
       "      <td>False</td>\n",
       "      <td>True</td>\n",
       "    </tr>\n",
       "    <tr>\n",
       "      <th>2</th>\n",
       "      <td>True</td>\n",
       "      <td>False</td>\n",
       "      <td>False</td>\n",
       "      <td>True</td>\n",
       "      <td>False</td>\n",
       "      <td>True</td>\n",
       "      <td>True</td>\n",
       "      <td>False</td>\n",
       "      <td>False</td>\n",
       "      <td>False</td>\n",
       "      <td>False</td>\n",
       "      <td>False</td>\n",
       "    </tr>\n",
       "    <tr>\n",
       "      <th>3</th>\n",
       "      <td>False</td>\n",
       "      <td>True</td>\n",
       "      <td>False</td>\n",
       "      <td>False</td>\n",
       "      <td>False</td>\n",
       "      <td>True</td>\n",
       "      <td>True</td>\n",
       "      <td>False</td>\n",
       "      <td>False</td>\n",
       "      <td>False</td>\n",
       "      <td>True</td>\n",
       "      <td>True</td>\n",
       "    </tr>\n",
       "    <tr>\n",
       "      <th>4</th>\n",
       "      <td>False</td>\n",
       "      <td>True</td>\n",
       "      <td>False</td>\n",
       "      <td>True</td>\n",
       "      <td>True</td>\n",
       "      <td>True</td>\n",
       "      <td>False</td>\n",
       "      <td>False</td>\n",
       "      <td>False</td>\n",
       "      <td>True</td>\n",
       "      <td>False</td>\n",
       "      <td>False</td>\n",
       "    </tr>\n",
       "  </tbody>\n",
       "</table>\n",
       "</div>"
      ],
      "text/plain": [
       "   apple   corn   dill   eggs  ice cream  kidney beans   milk  numtmeg  \\\n",
       "0  False  False  False   True      False          True   True    False   \n",
       "1  False  False   True   True      False          True  False     True   \n",
       "2   True  False  False   True      False          True   True    False   \n",
       "3  False   True  False  False      False          True   True    False   \n",
       "4  False   True  False   True       True          True  False    False   \n",
       "\n",
       "   nutmeg  onion  unicorn  yogurt  \n",
       "0    True   True    False    True  \n",
       "1   False   True    False    True  \n",
       "2   False  False    False   False  \n",
       "3   False  False     True    True  \n",
       "4   False   True    False   False  "
      ]
     },
     "execution_count": 12,
     "metadata": {},
     "output_type": "execute_result"
    }
   ],
   "source": [
    "df=pd.DataFrame(trans,columns=te.columns_)\n",
    "df"
   ]
  },
  {
   "cell_type": "code",
   "execution_count": 19,
   "metadata": {
    "scrolled": true
   },
   "outputs": [
    {
     "data": {
      "text/html": [
       "<div>\n",
       "<style scoped>\n",
       "    .dataframe tbody tr th:only-of-type {\n",
       "        vertical-align: middle;\n",
       "    }\n",
       "\n",
       "    .dataframe tbody tr th {\n",
       "        vertical-align: top;\n",
       "    }\n",
       "\n",
       "    .dataframe thead th {\n",
       "        text-align: right;\n",
       "    }\n",
       "</style>\n",
       "<table border=\"1\" class=\"dataframe\">\n",
       "  <thead>\n",
       "    <tr style=\"text-align: right;\">\n",
       "      <th></th>\n",
       "      <th>support</th>\n",
       "      <th>itemsets</th>\n",
       "    </tr>\n",
       "  </thead>\n",
       "  <tbody>\n",
       "    <tr>\n",
       "      <th>0</th>\n",
       "      <td>0.8</td>\n",
       "      <td>(eggs)</td>\n",
       "    </tr>\n",
       "    <tr>\n",
       "      <th>1</th>\n",
       "      <td>1.0</td>\n",
       "      <td>(kidney beans)</td>\n",
       "    </tr>\n",
       "    <tr>\n",
       "      <th>2</th>\n",
       "      <td>0.6</td>\n",
       "      <td>(milk)</td>\n",
       "    </tr>\n",
       "    <tr>\n",
       "      <th>3</th>\n",
       "      <td>0.6</td>\n",
       "      <td>(onion)</td>\n",
       "    </tr>\n",
       "    <tr>\n",
       "      <th>4</th>\n",
       "      <td>0.6</td>\n",
       "      <td>(yogurt)</td>\n",
       "    </tr>\n",
       "    <tr>\n",
       "      <th>5</th>\n",
       "      <td>0.8</td>\n",
       "      <td>(eggs, kidney beans)</td>\n",
       "    </tr>\n",
       "    <tr>\n",
       "      <th>6</th>\n",
       "      <td>0.6</td>\n",
       "      <td>(onion, eggs)</td>\n",
       "    </tr>\n",
       "    <tr>\n",
       "      <th>7</th>\n",
       "      <td>0.6</td>\n",
       "      <td>(milk, kidney beans)</td>\n",
       "    </tr>\n",
       "    <tr>\n",
       "      <th>8</th>\n",
       "      <td>0.6</td>\n",
       "      <td>(onion, kidney beans)</td>\n",
       "    </tr>\n",
       "    <tr>\n",
       "      <th>9</th>\n",
       "      <td>0.6</td>\n",
       "      <td>(yogurt, kidney beans)</td>\n",
       "    </tr>\n",
       "    <tr>\n",
       "      <th>10</th>\n",
       "      <td>0.6</td>\n",
       "      <td>(onion, eggs, kidney beans)</td>\n",
       "    </tr>\n",
       "  </tbody>\n",
       "</table>\n",
       "</div>"
      ],
      "text/plain": [
       "    support                     itemsets\n",
       "0       0.8                       (eggs)\n",
       "1       1.0               (kidney beans)\n",
       "2       0.6                       (milk)\n",
       "3       0.6                      (onion)\n",
       "4       0.6                     (yogurt)\n",
       "5       0.8         (eggs, kidney beans)\n",
       "6       0.6                (onion, eggs)\n",
       "7       0.6         (milk, kidney beans)\n",
       "8       0.6        (onion, kidney beans)\n",
       "9       0.6       (yogurt, kidney beans)\n",
       "10      0.6  (onion, eggs, kidney beans)"
      ]
     },
     "execution_count": 19,
     "metadata": {},
     "output_type": "execute_result"
    }
   ],
   "source": [
    "# to calculate the support of each item.\n",
    "ap=apriori(df,min_support=0.6,use_colnames=True)\n",
    "# min_support is the threshold value for the support\n",
    "#use_colnames=true shows the coloumn name in the itemsets column.\n",
    "ap"
   ]
  },
  {
   "cell_type": "code",
   "execution_count": 21,
   "metadata": {},
   "outputs": [
    {
     "data": {
      "text/html": [
       "<div>\n",
       "<style scoped>\n",
       "    .dataframe tbody tr th:only-of-type {\n",
       "        vertical-align: middle;\n",
       "    }\n",
       "\n",
       "    .dataframe tbody tr th {\n",
       "        vertical-align: top;\n",
       "    }\n",
       "\n",
       "    .dataframe thead th {\n",
       "        text-align: right;\n",
       "    }\n",
       "</style>\n",
       "<table border=\"1\" class=\"dataframe\">\n",
       "  <thead>\n",
       "    <tr style=\"text-align: right;\">\n",
       "      <th></th>\n",
       "      <th>support</th>\n",
       "      <th>itemsets</th>\n",
       "      <th>length</th>\n",
       "    </tr>\n",
       "  </thead>\n",
       "  <tbody>\n",
       "    <tr>\n",
       "      <th>0</th>\n",
       "      <td>0.8</td>\n",
       "      <td>(eggs)</td>\n",
       "      <td>1</td>\n",
       "    </tr>\n",
       "    <tr>\n",
       "      <th>1</th>\n",
       "      <td>1.0</td>\n",
       "      <td>(kidney beans)</td>\n",
       "      <td>1</td>\n",
       "    </tr>\n",
       "    <tr>\n",
       "      <th>2</th>\n",
       "      <td>0.6</td>\n",
       "      <td>(milk)</td>\n",
       "      <td>1</td>\n",
       "    </tr>\n",
       "    <tr>\n",
       "      <th>3</th>\n",
       "      <td>0.6</td>\n",
       "      <td>(onion)</td>\n",
       "      <td>1</td>\n",
       "    </tr>\n",
       "    <tr>\n",
       "      <th>4</th>\n",
       "      <td>0.6</td>\n",
       "      <td>(yogurt)</td>\n",
       "      <td>1</td>\n",
       "    </tr>\n",
       "    <tr>\n",
       "      <th>5</th>\n",
       "      <td>0.8</td>\n",
       "      <td>(eggs, kidney beans)</td>\n",
       "      <td>2</td>\n",
       "    </tr>\n",
       "    <tr>\n",
       "      <th>6</th>\n",
       "      <td>0.6</td>\n",
       "      <td>(onion, eggs)</td>\n",
       "      <td>2</td>\n",
       "    </tr>\n",
       "    <tr>\n",
       "      <th>7</th>\n",
       "      <td>0.6</td>\n",
       "      <td>(milk, kidney beans)</td>\n",
       "      <td>2</td>\n",
       "    </tr>\n",
       "    <tr>\n",
       "      <th>8</th>\n",
       "      <td>0.6</td>\n",
       "      <td>(onion, kidney beans)</td>\n",
       "      <td>2</td>\n",
       "    </tr>\n",
       "    <tr>\n",
       "      <th>9</th>\n",
       "      <td>0.6</td>\n",
       "      <td>(yogurt, kidney beans)</td>\n",
       "      <td>2</td>\n",
       "    </tr>\n",
       "    <tr>\n",
       "      <th>10</th>\n",
       "      <td>0.6</td>\n",
       "      <td>(onion, eggs, kidney beans)</td>\n",
       "      <td>3</td>\n",
       "    </tr>\n",
       "  </tbody>\n",
       "</table>\n",
       "</div>"
      ],
      "text/plain": [
       "    support                     itemsets  length\n",
       "0       0.8                       (eggs)       1\n",
       "1       1.0               (kidney beans)       1\n",
       "2       0.6                       (milk)       1\n",
       "3       0.6                      (onion)       1\n",
       "4       0.6                     (yogurt)       1\n",
       "5       0.8         (eggs, kidney beans)       2\n",
       "6       0.6                (onion, eggs)       2\n",
       "7       0.6         (milk, kidney beans)       2\n",
       "8       0.6        (onion, kidney beans)       2\n",
       "9       0.6       (yogurt, kidney beans)       2\n",
       "10      0.6  (onion, eggs, kidney beans)       3"
      ]
     },
     "execution_count": 21,
     "metadata": {},
     "output_type": "execute_result"
    }
   ],
   "source": [
    "# to add a new column in the apriori model,to keep the length of the itemsets.\n",
    "ap['length'] = ap['itemsets'].apply(lambda x:len(x))\n",
    "ap"
   ]
  },
  {
   "cell_type": "code",
   "execution_count": 26,
   "metadata": {},
   "outputs": [
    {
     "name": "stdout",
     "output_type": "stream",
     "text": [
      "   support              itemsets  length\n",
      "5      0.8  (eggs, kidney beans)       2\n"
     ]
    }
   ],
   "source": [
    "#to find which two items are sold together,and their support is greater than 0.8, by calculating the confidence\n",
    "print ( ap[ (ap['length']==2) & (ap['support']>=0.8) ] )"
   ]
  },
  {
   "cell_type": "code",
   "execution_count": 27,
   "metadata": {},
   "outputs": [
    {
     "name": "stdout",
     "output_type": "stream",
     "text": [
      "    support                     itemsets  length\n",
      "10      0.6  (onion, eggs, kidney beans)       3\n"
     ]
    }
   ],
   "source": [
    "#to find which three items can be sold together\n",
    "print( ap[ (ap['length']==3) & (ap['support']>=0.6) ] )"
   ]
  }
 ],
 "metadata": {
  "kernelspec": {
   "display_name": "Python 3",
   "language": "python",
   "name": "python3"
  },
  "language_info": {
   "codemirror_mode": {
    "name": "ipython",
    "version": 3
   },
   "file_extension": ".py",
   "mimetype": "text/x-python",
   "name": "python",
   "nbconvert_exporter": "python",
   "pygments_lexer": "ipython3",
   "version": "3.6.8"
  }
 },
 "nbformat": 4,
 "nbformat_minor": 2
}
